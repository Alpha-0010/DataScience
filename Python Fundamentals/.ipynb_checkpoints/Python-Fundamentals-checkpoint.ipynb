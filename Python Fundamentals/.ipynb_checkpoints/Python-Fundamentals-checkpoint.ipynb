{
 "cells": [
  {
   "cell_type": "markdown",
   "id": "fdee6782",
   "metadata": {},
   "source": [
    "# Print function"
   ]
  },
  {
   "cell_type": "code",
   "execution_count": 3,
   "id": "b6f649d5",
   "metadata": {},
   "outputs": [
    {
     "name": "stdout",
     "output_type": "stream",
     "text": [
      "Hello World!!\n",
      "Python DataScience 100\n"
     ]
    }
   ],
   "source": [
    "print(\"Hello World!!\")\n",
    "print(\"Python\",\"DataScience\",100)"
   ]
  },
  {
   "cell_type": "markdown",
   "id": "74de0e74",
   "metadata": {},
   "source": [
    "# Variables"
   ]
  },
  {
   "cell_type": "code",
   "execution_count": 11,
   "id": "6d9d3b9f",
   "metadata": {},
   "outputs": [
    {
     "name": "stdout",
     "output_type": "stream",
     "text": [
      "5   <class 'int'>\n",
      "1.2   <class 'float'>\n",
      "Guess?   <class 'str'>\n"
     ]
    }
   ],
   "source": [
    "i=5\n",
    "print(i,\" \",type(i))\n",
    "f=1.2\n",
    "print(f,\" \",type(f))\n",
    "s=\"Guess?\"\n",
    "print(s,\" \",type(s))"
   ]
  },
  {
   "cell_type": "code",
   "execution_count": 13,
   "id": "64dbd3be",
   "metadata": {},
   "outputs": [
    {
     "name": "stdout",
     "output_type": "stream",
     "text": [
      "5   <class 'int'>\n",
      "Coding   <class 'str'>\n"
     ]
    }
   ],
   "source": [
    "# In python we have the flexibility to change the type of a variable[Dynamic Typed Language].\n",
    "print(i,\" \",type(i))\n",
    "i=\"Coding\"\n",
    "print(i,\" \",type(i))"
   ]
  },
  {
   "cell_type": "markdown",
   "id": "8ba33e85",
   "metadata": {},
   "source": [
    "# Basic DataTypes\n",
    "    a) int\n",
    "    b) float\n",
    "    c) string\n",
    "    d) boolean\n",
    "    e) none"
   ]
  },
  {
   "cell_type": "code",
   "execution_count": 16,
   "id": "ae0d60b9",
   "metadata": {},
   "outputs": [
    {
     "name": "stdout",
     "output_type": "stream",
     "text": [
      "False   <class 'bool'>\n",
      "True   <class 'bool'>\n",
      "None   <class 'NoneType'>\n"
     ]
    }
   ],
   "source": [
    "flag=False\n",
    "print(flag,\" \",type(flag))\n",
    "flag=True\n",
    "print(flag,\" \",type(flag))\n",
    "none=None\n",
    "print(none,\" \",type(none))"
   ]
  },
  {
   "cell_type": "markdown",
   "id": "0ae86923",
   "metadata": {},
   "source": [
    "# Input In Python"
   ]
  },
  {
   "cell_type": "code",
   "execution_count": 19,
   "id": "bd180b75",
   "metadata": {},
   "outputs": [
    {
     "name": "stdout",
     "output_type": "stream",
     "text": [
      "Enter Your Name: Alex\n",
      "Alex   <class 'str'>\n"
     ]
    }
   ],
   "source": [
    "# In python, the input() function always returns a string value.\n",
    "name=input(\"Enter Your Name: \")\n",
    "print(name,\" \",type(name))"
   ]
  },
  {
   "cell_type": "markdown",
   "id": "5873dcd6",
   "metadata": {},
   "source": [
    "# TypeCasting"
   ]
  },
  {
   "cell_type": "code",
   "execution_count": 25,
   "id": "2e8867b5",
   "metadata": {},
   "outputs": [
    {
     "name": "stdout",
     "output_type": "stream",
     "text": [
      "5   <class 'str'>\n",
      "5   <class 'int'>\n",
      "5.0   <class 'float'>\n",
      "5.0   <class 'str'>\n"
     ]
    }
   ],
   "source": [
    "i=\"5\"\n",
    "print(i,\" \",type(i))\n",
    "i=int(i)\n",
    "print(i,\" \",type(i))\n",
    "i=float(i)\n",
    "print(i,\" \",type(i))\n",
    "i=str(i)\n",
    "print(i,\" \",type(i))"
   ]
  },
  {
   "cell_type": "markdown",
   "id": "ac96be0f",
   "metadata": {},
   "source": [
    "# Operators\n",
    "    a) Arithmetic: +,-,*,/,//,**,%\n",
    "    b) Comparison: >,<,>=,<=,==,!=\n",
    "    c) Logical: and, or, not\n",
    "    d) Bitwise: &,|,^\n",
    "    e) Membership: in"
   ]
  },
  {
   "cell_type": "code",
   "execution_count": 29,
   "id": "305e0f3e",
   "metadata": {},
   "outputs": [
    {
     "name": "stdout",
     "output_type": "stream",
     "text": [
      "30\n",
      "-10\n",
      "200\n",
      "0.5\n",
      "0\n",
      "100000000000000000000\n",
      "10\n"
     ]
    }
   ],
   "source": [
    "# Arithmetic Operators.\n",
    "num1=10\n",
    "num2=20\n",
    "print(num1+num2)\n",
    "print(num1-num2)\n",
    "print(num1*num2)\n",
    "print(num1/num2)\n",
    "print(num1//num2) # floor Division.\n",
    "print(num1**num2)\n",
    "print(num1%num2)"
   ]
  },
  {
   "cell_type": "code",
   "execution_count": 30,
   "id": "a3ac10ae",
   "metadata": {},
   "outputs": [
    {
     "name": "stdout",
     "output_type": "stream",
     "text": [
      "False\n",
      "True\n",
      "False\n",
      "True\n",
      "False\n",
      "True\n"
     ]
    }
   ],
   "source": [
    "# Comparison Operators.\n",
    "num1=10\n",
    "num2=20\n",
    "print(num1>num2)\n",
    "print(num1<num2)\n",
    "print(num1>=num2)\n",
    "print(num1<=num2)\n",
    "print(num1==num2)\n",
    "print(num1!=num2)"
   ]
  },
  {
   "cell_type": "code",
   "execution_count": 31,
   "id": "6f85cdd8",
   "metadata": {},
   "outputs": [
    {
     "name": "stdout",
     "output_type": "stream",
     "text": [
      "True\n",
      "True\n",
      "False\n"
     ]
    }
   ],
   "source": [
    "# Logical Operators.\n",
    "print((10>5) and (8>5))\n",
    "print((10>5) or (8<5))\n",
    "print(not(10>5))"
   ]
  },
  {
   "cell_type": "code",
   "execution_count": 34,
   "id": "53b65509",
   "metadata": {},
   "outputs": [
    {
     "name": "stdout",
     "output_type": "stream",
     "text": [
      "0\n",
      "14\n",
      "14\n"
     ]
    }
   ],
   "source": [
    "# Bitwise Operators.\n",
    "print(10&4)\n",
    "print(10|4)\n",
    "print(10^4)"
   ]
  },
  {
   "cell_type": "code",
   "execution_count": 35,
   "id": "b027968d",
   "metadata": {},
   "outputs": [
    {
     "name": "stdout",
     "output_type": "stream",
     "text": [
      "True\n"
     ]
    }
   ],
   "source": [
    "# Membership Operator.\n",
    "t=\"Good\"\n",
    "s=\"Good Operator\"\n",
    "print(t in s)"
   ]
  },
  {
   "cell_type": "markdown",
   "id": "2e9c967c",
   "metadata": {},
   "source": [
    "#  Conditional Statements"
   ]
  },
  {
   "cell_type": "code",
   "execution_count": 36,
   "id": "c57c3bc3",
   "metadata": {},
   "outputs": [
    {
     "name": "stdout",
     "output_type": "stream",
     "text": [
      "First book vacination slot\n"
     ]
    }
   ],
   "source": [
    "# if,elif,else\n",
    "age=21\n",
    "if age>=45:\n",
    "    print(\"Walkin Vacination\")\n",
    "elif age>=18 and age<=45:\n",
    "    print(\"First book vacination slot\")\n",
    "else:\n",
    "    print(\"Not eligible for vacination\")"
   ]
  },
  {
   "cell_type": "markdown",
   "id": "6dd7e210",
   "metadata": {},
   "source": [
    "#  Loops and Iteration"
   ]
  },
  {
   "cell_type": "code",
   "execution_count": 44,
   "id": "67bee707",
   "metadata": {},
   "outputs": [
    {
     "name": "stdout",
     "output_type": "stream",
     "text": [
      "2,4,6,8,10,12,14,16,18,20,\n",
      "1,3,5,7,9,11,13,15,17,19,"
     ]
    }
   ],
   "source": [
    "# for loop and while loop\n",
    "\n",
    "#print all the even numbers from 1 o 20.\n",
    "i=1\n",
    "while i<=20:\n",
    "    if i%2==0:\n",
    "        print(i,end=\",\")\n",
    "    i=i+1\n",
    "    \n",
    "print()\n",
    "# print all the odd numbers from 1 o 20.\n",
    "for i in range(1,21):\n",
    "    if i%2!=0:\n",
    "        print(i,end=\",\")"
   ]
  },
  {
   "cell_type": "code",
   "execution_count": 45,
   "id": "0cc4b17e",
   "metadata": {},
   "outputs": [
    {
     "name": "stdout",
     "output_type": "stream",
     "text": [
      "1,3,5,7,9,"
     ]
    }
   ],
   "source": [
    "# for loop with step size\n",
    "# range(start,end+1,step)\n",
    "for i in range(1,11,2):\n",
    "    print(i,end=\",\")\n"
   ]
  },
  {
   "cell_type": "code",
   "execution_count": 48,
   "id": "13faf934",
   "metadata": {},
   "outputs": [
    {
     "name": "stdout",
     "output_type": "stream",
     "text": [
      "0,2,\n",
      "0,2,6,8,10,"
     ]
    }
   ],
   "source": [
    "# Use of break and continue.\n",
    "for i in range(0,11,2):\n",
    "    if i==4:\n",
    "        break\n",
    "    print(i,end=\",\")\n",
    "\n",
    "print()\n",
    "    \n",
    "for i in range(0,11,2):\n",
    "    if i==4:\n",
    "        continue\n",
    "    print(i,end=\",\")"
   ]
  },
  {
   "cell_type": "code",
   "execution_count": null,
   "id": "e21dbb7f",
   "metadata": {},
   "outputs": [],
   "source": []
  }
 ],
 "metadata": {
  "kernelspec": {
   "display_name": "Python 3",
   "language": "python",
   "name": "python3"
  },
  "language_info": {
   "codemirror_mode": {
    "name": "ipython",
    "version": 3
   },
   "file_extension": ".py",
   "mimetype": "text/x-python",
   "name": "python",
   "nbconvert_exporter": "python",
   "pygments_lexer": "ipython3",
   "version": "3.8.8"
  }
 },
 "nbformat": 4,
 "nbformat_minor": 5
}
