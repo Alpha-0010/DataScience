{
 "cells": [
  {
   "cell_type": "markdown",
   "id": "59c1a4f4",
   "metadata": {},
   "source": [
    "# Opencv\n",
    "    - a library commonly used for Computer Vision Tasks..\n",
    "    - Can be used for Image Processing..\n",
    "    - Used for image Manipulation[Sharpen the image around corners ,etc..]"
   ]
  },
  {
   "cell_type": "code",
   "execution_count": 1,
   "id": "210d66f8",
   "metadata": {},
   "outputs": [],
   "source": [
    "# !pip install opencv-python"
   ]
  },
  {
   "cell_type": "code",
   "execution_count": 2,
   "id": "9e7754ad",
   "metadata": {},
   "outputs": [],
   "source": [
    "# We used image manipulation in matplotlib but opencv is widely used for this specific task only. And has lot of\n",
    "# methods to support image manipulation. opencv can also be used to detect faces.\n",
    "\n",
    "import cv2\n",
    "import numpy as np\n",
    "import matplotlib.pyplot as plt"
   ]
  },
  {
   "cell_type": "markdown",
   "id": "5b479c78",
   "metadata": {},
   "source": [
    "### Read and Display Images "
   ]
  },
  {
   "cell_type": "code",
   "execution_count": 3,
   "id": "11a1ff2b",
   "metadata": {},
   "outputs": [],
   "source": [
    "# Same read function as matplotlib...\n",
    "img_cv2=cv2.imread(\"./dog.jpg\")\n",
    "img_plt=plt.imread(\"./dog.jpg\")"
   ]
  },
  {
   "cell_type": "code",
   "execution_count": 4,
   "id": "57cb300e",
   "metadata": {},
   "outputs": [
    {
     "data": {
      "text/plain": [
       "numpy.ndarray"
      ]
     },
     "execution_count": 4,
     "metadata": {},
     "output_type": "execute_result"
    }
   ],
   "source": [
    "type(img_cv2)"
   ]
  },
  {
   "cell_type": "code",
   "execution_count": 5,
   "id": "070f362d",
   "metadata": {},
   "outputs": [
    {
     "data": {
      "text/plain": [
       "(2820, 3760, 3)"
      ]
     },
     "execution_count": 5,
     "metadata": {},
     "output_type": "execute_result"
    }
   ],
   "source": [
    "img_cv2.shape"
   ]
  },
  {
   "cell_type": "code",
   "execution_count": 6,
   "id": "fbc1691a",
   "metadata": {},
   "outputs": [
    {
     "name": "stdout",
     "output_type": "stream",
     "text": [
      "Using matplotlib backend: Qt5Agg\n"
     ]
    }
   ],
   "source": [
    "# If we read image using opencv the channels are BGR not RGB like in matplotlib..\n",
    "%matplotlib"
   ]
  },
  {
   "cell_type": "code",
   "execution_count": 7,
   "id": "5ee42ef6",
   "metadata": {},
   "outputs": [],
   "source": [
    "cv2.namedWindow(\"output\", cv2.WINDOW_AUTOSIZE)\n",
    "imS = cv2.resize(img_cv2, (960, 540))\n",
    "cv2.imshow(\"Dog Image\",imS)\n",
    "cv2.waitKey(5000)\n",
    "cv2.destroyAllWindows()"
   ]
  },
  {
   "cell_type": "code",
   "execution_count": null,
   "id": "a76901aa",
   "metadata": {},
   "outputs": [],
   "source": []
  },
  {
   "cell_type": "code",
   "execution_count": null,
   "id": "3d0caa1f",
   "metadata": {},
   "outputs": [],
   "source": []
  },
  {
   "cell_type": "code",
   "execution_count": null,
   "id": "36ab4057",
   "metadata": {},
   "outputs": [],
   "source": []
  }
 ],
 "metadata": {
  "kernelspec": {
   "display_name": "Python 3",
   "language": "python",
   "name": "python3"
  },
  "language_info": {
   "codemirror_mode": {
    "name": "ipython",
    "version": 3
   },
   "file_extension": ".py",
   "mimetype": "text/x-python",
   "name": "python",
   "nbconvert_exporter": "python",
   "pygments_lexer": "ipython3",
   "version": "3.8.8"
  }
 },
 "nbformat": 4,
 "nbformat_minor": 5
}
