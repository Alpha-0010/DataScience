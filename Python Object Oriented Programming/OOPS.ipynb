{
 "cells": [
  {
   "cell_type": "markdown",
   "id": "8d8b4db5",
   "metadata": {},
   "source": [
    "# OOPs\n",
    "    It is used to enhance Reusability of the code.\n",
    "    A) Object Oriented Programming\n",
    "    B) Classes and Objects\n",
    "    C) Abstraction,Encapsulation, Inheritance and Polymorphism."
   ]
  },
  {
   "cell_type": "code",
   "execution_count": 1,
   "id": "6b0cbbec",
   "metadata": {},
   "outputs": [],
   "source": [
    "# A class is a bluePrint of a real world entity\n",
    "# A class can have attributes which is common for its objects\n",
    "class Human:\n",
    "    pass"
   ]
  },
  {
   "cell_type": "code",
   "execution_count": 2,
   "id": "867ed1be",
   "metadata": {},
   "outputs": [
    {
     "name": "stdout",
     "output_type": "stream",
     "text": [
      "<class 'type'>\n",
      "<class '__main__.Human'>\n"
     ]
    }
   ],
   "source": [
    "# Objects are instances of a class.\n",
    "Alex=Human()\n",
    "print(type(Human))\n",
    "print(type(Alex)) # Alex is an Object of Human class."
   ]
  },
  {
   "cell_type": "code",
   "execution_count": 3,
   "id": "651e4217",
   "metadata": {},
   "outputs": [
    {
     "name": "stdout",
     "output_type": "stream",
     "text": [
      "Creating an Object....\n"
     ]
    }
   ],
   "source": [
    "# Constructor:\n",
    "# It is a special member function of a class which is called whenever we create a new object of a class.\n",
    "# Defined using __init__\n",
    "# self is the object in the constructor.\n",
    "\n",
    "class Human:\n",
    "    def __init__(self):\n",
    "        print(\"Creating an Object....\")\n",
    "\n",
    "Alex=Human() # The constructor automatically gets called."
   ]
  },
  {
   "cell_type": "code",
   "execution_count": 4,
   "id": "b39b4515",
   "metadata": {},
   "outputs": [
    {
     "name": "stdout",
     "output_type": "stream",
     "text": [
      "Shashwat   21\n"
     ]
    }
   ],
   "source": [
    "# Class with Instance Variable.\n",
    "class Human:\n",
    "    def __init__(self,name,age):\n",
    "        self.name=name\n",
    "        self.age=age\n",
    "\n",
    "h1=Human(\"Shashwat\",21)\n",
    "print(h1.name,\" \",h1.age)"
   ]
  },
  {
   "cell_type": "code",
   "execution_count": 5,
   "id": "470216f9",
   "metadata": {},
   "outputs": [
    {
     "name": "stdout",
     "output_type": "stream",
     "text": [
      "Hello My name is John and my age is: 25\n",
      "Hello My name is Alice and my age is: 20\n"
     ]
    }
   ],
   "source": [
    "# Instance Methods.\n",
    "# Every function in the class should have self as an argument[Python].\n",
    "# And all the instance variables should be called like self.var_name\n",
    "class Human:\n",
    "    def __init__(self,name,age):\n",
    "        self.name=name\n",
    "        self.age=age\n",
    "    \n",
    "    def introduce(self):\n",
    "        print(\"Hello\",\"My name is\",self.name,\"and my age is:\",self.age)\n",
    "\n",
    "h1=Human(\"John\",25)\n",
    "h1.introduce()\n",
    "\n",
    "h2=Human(\"Alice\",20)\n",
    "h2.introduce()"
   ]
  },
  {
   "cell_type": "code",
   "execution_count": 6,
   "id": "a71e83d3",
   "metadata": {},
   "outputs": [],
   "source": [
    "# Class Variables--> The variables that are common to all the classes like static variable in java.\n",
    "# Class variables are called using the class Name.\n",
    "# className.classVariable\n",
    "class Human:\n",
    "    # Class Variables are defined outside the constructor.\n",
    "    database=[]\n",
    "    population=0\n",
    "    id_seq=101\n",
    "    \n",
    "    # Constructor.\n",
    "    def __init__(self,name,age,isAlive=True):\n",
    "        # Instance variables.\n",
    "        self.name=name\n",
    "        self.age=age\n",
    "        self.isAlive=isAlive\n",
    "        # adding id of an object\n",
    "        self.id=Human.id_seq\n",
    "        Human.id_seq+=1\n",
    "        Human.population+=1\n",
    "        Human.database.append(self)"
   ]
  },
  {
   "cell_type": "code",
   "execution_count": 7,
   "id": "42d90b8d",
   "metadata": {},
   "outputs": [
    {
     "name": "stdout",
     "output_type": "stream",
     "text": [
      "5\n"
     ]
    }
   ],
   "source": [
    "h1=Human(\"Alex\",21)\n",
    "h2=Human(\"Shashwat\",21)\n",
    "h3=Human(\"Anne\",20)\n",
    "h4=Human(\"Emily\",21)\n",
    "h5=Human(\"Kane\",23)\n",
    "print(Human.population)"
   ]
  },
  {
   "cell_type": "code",
   "execution_count": 8,
   "id": "15b1e39b",
   "metadata": {},
   "outputs": [],
   "source": [
    "# Now lets write a function die() which will depict the state when a person dies.\n",
    "class Human:\n",
    "    # Class Variables are defined outside the constructor.\n",
    "    database=[]\n",
    "    population=0\n",
    "    id_seq=101\n",
    "    \n",
    "    # Constructor.\n",
    "    def __init__(self,name,age,isAlive=True):\n",
    "        # Instance variables.\n",
    "        self.name=name\n",
    "        self.age=age\n",
    "        self.isAlive=isAlive\n",
    "        # adding id of an object\n",
    "        self.id=Human.id_seq\n",
    "        Human.id_seq+=1\n",
    "        Human.population+=1\n",
    "        Human.database.append(self)\n",
    "    \n",
    "    \n",
    "    def die(self):\n",
    "        if(self.isAlive):\n",
    "            print(self.name,\"is dead\")\n",
    "            self.isAlive=False\n",
    "            Human.population-=1\n",
    "        else:\n",
    "            print(\"{} is already dead\".format(self.name))"
   ]
  },
  {
   "cell_type": "code",
   "execution_count": 9,
   "id": "b245f696",
   "metadata": {},
   "outputs": [
    {
     "name": "stdout",
     "output_type": "stream",
     "text": [
      "3\n",
      "True\n",
      "Alex is dead\n",
      "False\n",
      "2\n",
      "Alex is already dead\n",
      "2\n"
     ]
    }
   ],
   "source": [
    "h1=Human(\"Alex\",21)\n",
    "h2=Human(\"Shashwat\",21)\n",
    "h3=Human(\"Anne\",20)\n",
    "print(Human.population)\n",
    "print(h2.isAlive)\n",
    "h1.die()\n",
    "print(h1.isAlive)\n",
    "print(Human.population)\n",
    "h1.die()\n",
    "print(Human.population)"
   ]
  },
  {
   "cell_type": "code",
   "execution_count": 10,
   "id": "d46314bc",
   "metadata": {},
   "outputs": [],
   "source": [
    "# Now we will talk about Magic function.\n",
    "# These are functions which are automatically called when some particular event occurs.\n",
    "# Eg: __init__,__repr__,__str__\n",
    "# __repr__ --> If we want to represent an object in some other way than its usual behavior.\n",
    "# Now lets write a function die() which will depict the state when a person dies.\n",
    "class Human:\n",
    "    # Class Variables are defined outside the constructor.\n",
    "    database=[]\n",
    "    population=0\n",
    "    id_seq=1\n",
    "    \n",
    "    # Constructor.\n",
    "    def __init__(self,name,age,isAlive=True):\n",
    "        # Instance variables.\n",
    "        self.name=name\n",
    "        self.age=age\n",
    "        self.isAlive=isAlive\n",
    "        # adding id of an object\n",
    "        self.id=Human.id_seq\n",
    "        Human.id_seq+=1\n",
    "        Human.population+=1\n",
    "        Human.database.append(self)\n",
    "    \n",
    "    \n",
    "    def die(self):\n",
    "        if(self.isAlive):\n",
    "            print(self.name,\"is dead\")\n",
    "            self.isAlive=False\n",
    "            Human.population-=1\n",
    "        else:\n",
    "            print(\"{} is already dead\".format(self.name))\n",
    "    \n",
    "    # Magic Function\n",
    "    def __repr__(self):\n",
    "        # This function needs to return a string.\n",
    "        return \"[{}, {}, {}]\".format(self.id,self.name,self.age,self.isAlive)"
   ]
  },
  {
   "cell_type": "code",
   "execution_count": 11,
   "id": "ea3dfb1d",
   "metadata": {},
   "outputs": [
    {
     "name": "stdout",
     "output_type": "stream",
     "text": [
      "[1, Alex, 21]\n"
     ]
    }
   ],
   "source": [
    "h1=Human(\"Alex\",21)\n",
    "h2=Human(\"Shashwat\",21)\n",
    "h3=Human(\"Anne\",20)\n",
    "print(h1) # Now it is showing the actual data beacuse we used  __retr__ Magic Function."
   ]
  },
  {
   "cell_type": "code",
   "execution_count": 12,
   "id": "e2360498",
   "metadata": {},
   "outputs": [],
   "source": [
    "# Inheritance--> Acquire some properties from your ancestors or the parent class.\n",
    "# Now lets make a class Hitman which will inherit from Human class. Hitman are the contracted killers who kill\n",
    "# human.\n",
    "class Human:\n",
    "    # Class Variables are defined outside the constructor.\n",
    "    database=[]\n",
    "    population=0\n",
    "    id_seq=1\n",
    "    \n",
    "    # Constructor.\n",
    "    def __init__(self,name,age,isAlive=True):\n",
    "        # Instance variables.\n",
    "        self.name=name\n",
    "        self.age=age\n",
    "        self.isAlive=isAlive\n",
    "        # adding id of an object\n",
    "        self.id=Human.id_seq\n",
    "        Human.id_seq+=1\n",
    "        Human.population+=1\n",
    "        Human.database.append(self)\n",
    "    \n",
    "    \n",
    "    def die(self):\n",
    "        if(self.isAlive):\n",
    "            print(self.name,\"is dead\")\n",
    "            self.isAlive=False\n",
    "            Human.population-=1\n",
    "        else:\n",
    "            print(\"{} is already dead\".format(self.name))\n",
    "    \n",
    "    # Magic Function\n",
    "    def __repr__(self):\n",
    "        # This function needs to return a string.\n",
    "        return \"[{}, {}, {}]\".format(self.id,self.name,self.age,self.isAlive)\n",
    "\n",
    "class Hitman(Human): # Hitman class is inheriting from Human class.\n",
    "    def __init__(self,name,age):\n",
    "        super().__init__(name,age) # Call the constructor of the parent class and reuse the code for Human \n",
    "                                    # in Hitman because Hitman is also a Human afterall.\n",
    "        # Additional Hitman Instance variables.\n",
    "        self.kills=0\n",
    "        self.killList=[]\n",
    "    \n",
    "    def kill(self,person):\n",
    "        if person.isAlive:\n",
    "            print(\"{} is killing {}\".format(self.name,person.name))\n",
    "            person.die()\n",
    "            self.kills+=1\n",
    "            self.killList.append(person)\n",
    "        else:\n",
    "            print(\"{} cannot kill {}, {} is already dead\".format(self.name,person.name,person.name))"
   ]
  },
  {
   "cell_type": "code",
   "execution_count": 13,
   "id": "36eba0cb",
   "metadata": {},
   "outputs": [
    {
     "name": "stdout",
     "output_type": "stream",
     "text": [
      "3\n",
      "[[1, Alex, 21], [2, Shashwat, 21], [3, Anne, 20]]\n",
      "James is killing Alex\n",
      "Alex is dead\n",
      "Joe cannot kill Alex, Alex is already dead\n",
      "[[1, Alex, 21], [2, Shashwat, 21], [3, Anne, 20], [4, James, 35], [5, Joe, 32]]\n"
     ]
    }
   ],
   "source": [
    "h1=Human(\"Alex\",21)\n",
    "h2=Human(\"Shashwat\",21)\n",
    "h3=Human(\"Anne\",20)\n",
    "print(Human.population)\n",
    "print(Human.database)\n",
    "Bond=Hitman(\"James\",35)\n",
    "Bond.kill(h1)\n",
    "Terminator=Hitman(\"Joe\",32)\n",
    "Terminator.kill(h1)\n",
    "print(Human.database)"
   ]
  },
  {
   "cell_type": "code",
   "execution_count": 14,
   "id": "06db2a2c",
   "metadata": {},
   "outputs": [],
   "source": [
    "# Polymorphism ---> One function name can have different functionalities.\n",
    "\n",
    "# Function Overriding ---> Functions with the same name and same parameters but we wish to override the function\n",
    "# of the base class in the derived class.\n",
    "\n",
    "# Function Overloading ---> Unlike C++,Java,.. Python doesnot support function overloading."
   ]
  }
 ],
 "metadata": {
  "kernelspec": {
   "display_name": "Python 3",
   "language": "python",
   "name": "python3"
  },
  "language_info": {
   "codemirror_mode": {
    "name": "ipython",
    "version": 3
   },
   "file_extension": ".py",
   "mimetype": "text/x-python",
   "name": "python",
   "nbconvert_exporter": "python",
   "pygments_lexer": "ipython3",
   "version": "3.8.8"
  }
 },
 "nbformat": 4,
 "nbformat_minor": 5
}
