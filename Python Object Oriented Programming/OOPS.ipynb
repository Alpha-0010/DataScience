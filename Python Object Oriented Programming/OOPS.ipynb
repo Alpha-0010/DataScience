{
 "cells": [
  {
   "cell_type": "markdown",
   "id": "8d8b4db5",
   "metadata": {},
   "source": [
    "# OOPs\n",
    "    It is used to enhance Reusability of the code.\n",
    "    A) Object Oriented Programming\n",
    "    B) Classes and Objects\n",
    "    C) Abstraction,Encapsulation, Inheritance and Polymorphism."
   ]
  },
  {
   "cell_type": "code",
   "execution_count": 11,
   "id": "6b0cbbec",
   "metadata": {},
   "outputs": [],
   "source": [
    "# A class is a bluePrint of a real world entity\n",
    "# A class can have attributes which is common for its objects.\n",
    "class Human:\n",
    "    pass"
   ]
  },
  {
   "cell_type": "code",
   "execution_count": 12,
   "id": "867ed1be",
   "metadata": {},
   "outputs": [
    {
     "name": "stdout",
     "output_type": "stream",
     "text": [
      "<class 'type'>\n",
      "<class '__main__.Human'>\n"
     ]
    }
   ],
   "source": [
    "# Objects are instances of a class.\n",
    "Alex=Human()\n",
    "print(type(Human))\n",
    "print(type(Alex)) # Alex is an Object of Human class."
   ]
  },
  {
   "cell_type": "code",
   "execution_count": 13,
   "id": "651e4217",
   "metadata": {},
   "outputs": [
    {
     "name": "stdout",
     "output_type": "stream",
     "text": [
      "Creating an Object....\n"
     ]
    }
   ],
   "source": [
    "# Constructor:\n",
    "# It is a special member function of a class which is called whenever we create a new object of a class.\n",
    "# Defined using __init__\n",
    "\n",
    "class Human:\n",
    "    def __init__(self):\n",
    "        print(\"Creating an Object....\")\n",
    "\n",
    "Alex=Human() # The constructor automatically gets called."
   ]
  },
  {
   "cell_type": "code",
   "execution_count": 16,
   "id": "b39b4515",
   "metadata": {},
   "outputs": [
    {
     "name": "stdout",
     "output_type": "stream",
     "text": [
      "Shashwat   21\n"
     ]
    }
   ],
   "source": [
    "# Class with Instance Variable.\n",
    "class Human:\n",
    "    def __init__(self,name,age):\n",
    "        self.name=name\n",
    "        self.age=age\n",
    "\n",
    "h1=Human(\"Shashwat\",21)\n",
    "print(h1.name,\" \",h1.age)"
   ]
  },
  {
   "cell_type": "code",
   "execution_count": 25,
   "id": "470216f9",
   "metadata": {},
   "outputs": [
    {
     "name": "stdout",
     "output_type": "stream",
     "text": [
      "Hello My name is John and my age is: 25\n",
      "Hello My name is Alice and my age is: 20\n"
     ]
    }
   ],
   "source": [
    "# Instance Methods.\n",
    "# Every function in the class should have self as an argument[Python].\n",
    "# And all the instance variables should be called like self.var_name\n",
    "class Human:\n",
    "    def __init__(self,name,age):\n",
    "        self.name=name\n",
    "        self.age=age\n",
    "    \n",
    "    def introduce(self):\n",
    "        print(\"Hello\",\"My name is\",self.name,\"and my age is:\",self.age)\n",
    "\n",
    "h1=Human(\"John\",25)\n",
    "h1.introduce()\n",
    "\n",
    "h2=Human(\"Alice\",20)\n",
    "h2.introduce()"
   ]
  },
  {
   "cell_type": "code",
   "execution_count": null,
   "id": "a71e83d3",
   "metadata": {},
   "outputs": [],
   "source": [
    "# Class Variables--> The variables that are common to all the classes like static variable in java.\n"
   ]
  }
 ],
 "metadata": {
  "kernelspec": {
   "display_name": "Python 3",
   "language": "python",
   "name": "python3"
  },
  "language_info": {
   "codemirror_mode": {
    "name": "ipython",
    "version": 3
   },
   "file_extension": ".py",
   "mimetype": "text/x-python",
   "name": "python",
   "nbconvert_exporter": "python",
   "pygments_lexer": "ipython3",
   "version": "3.8.8"
  }
 },
 "nbformat": 4,
 "nbformat_minor": 5
}
