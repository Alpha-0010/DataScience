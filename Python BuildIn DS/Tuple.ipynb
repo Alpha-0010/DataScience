{
 "cells": [
  {
   "cell_type": "markdown",
   "id": "8971ea4c",
   "metadata": {},
   "source": [
    "# Tuples\n",
    "    A) Same as Lists(read-only or Immutable)\n",
    "    B) Ordered and indexable"
   ]
  },
  {
   "cell_type": "code",
   "execution_count": 6,
   "id": "117a46fe",
   "metadata": {},
   "outputs": [
    {
     "name": "stdout",
     "output_type": "stream",
     "text": [
      "(0, 1, 2, 3, 99, -1, 100)   <class 'tuple'>\n",
      "0\n",
      "100\n"
     ]
    }
   ],
   "source": [
    "tup=(0,1,2,3,99,-1,100)\n",
    "print(tup,\" \",type(tup))\n",
    "print(tup[0])\n",
    "print(tup[-1])"
   ]
  },
  {
   "cell_type": "code",
   "execution_count": null,
   "id": "79a293a3",
   "metadata": {},
   "outputs": [],
   "source": []
  }
 ],
 "metadata": {
  "kernelspec": {
   "display_name": "Python 3",
   "language": "python",
   "name": "python3"
  },
  "language_info": {
   "codemirror_mode": {
    "name": "ipython",
    "version": 3
   },
   "file_extension": ".py",
   "mimetype": "text/x-python",
   "name": "python",
   "nbconvert_exporter": "python",
   "pygments_lexer": "ipython3",
   "version": "3.8.8"
  }
 },
 "nbformat": 4,
 "nbformat_minor": 5
}
