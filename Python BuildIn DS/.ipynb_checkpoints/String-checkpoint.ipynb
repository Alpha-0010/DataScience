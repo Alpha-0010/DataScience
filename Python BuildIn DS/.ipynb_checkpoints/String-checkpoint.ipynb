{
 "cells": [
  {
   "cell_type": "markdown",
   "id": "3c706426",
   "metadata": {},
   "source": [
    "# Strings"
   ]
  },
  {
   "cell_type": "code",
   "execution_count": 6,
   "id": "ac2e16a1",
   "metadata": {},
   "outputs": [
    {
     "name": "stdout",
     "output_type": "stream",
     "text": [
      "Hello World!   <class 'str'>\n"
     ]
    }
   ],
   "source": [
    "my_str=\"Hello World!\"\n",
    "print(my_str,\" \",type(my_str))"
   ]
  },
  {
   "cell_type": "code",
   "execution_count": 13,
   "id": "7f9dc55c",
   "metadata": {},
   "outputs": [
    {
     "name": "stdout",
     "output_type": "stream",
     "text": [
      "H\n",
      "Hello World!\n",
      "!\n",
      "!\n"
     ]
    }
   ],
   "source": [
    "# Iterating over the characters of a string[Indexing]\n",
    "print(my_str[0])\n",
    "\n",
    "for i in range(0,len(my_str)):\n",
    "    print(my_str[i],end=\"\")\n",
    "\n",
    "print()\n",
    "print(my_str[len(my_str)-1])\n",
    "\n",
    "# Negative Indexing in Python\n",
    "print(my_str[-1])"
   ]
  },
  {
   "cell_type": "code",
   "execution_count": 16,
   "id": "29933074",
   "metadata": {},
   "outputs": [
    {
     "name": "stdout",
     "output_type": "stream",
     "text": [
      "He\n",
      "Hello World!\n",
      "Hello Worl\n"
     ]
    }
   ],
   "source": [
    "# String Slicing\n",
    "# Syntax: str[start:end+1]\n",
    "\n",
    "print(my_str[0:2])\n",
    "print(my_str[:])\n",
    "\n",
    "# Take all the characters except the last 2 characters.\n",
    "print(my_str[:-2])"
   ]
  },
  {
   "cell_type": "code",
   "execution_count": 28,
   "id": "197d38d3",
   "metadata": {},
   "outputs": [
    {
     "name": "stdout",
     "output_type": "stream",
     "text": [
      "hello world\n",
      "HELLO WORLD\n",
      "Hello World\n",
      "6\n",
      "['Hello', 'World']\n",
      "abcbcd\n",
      "abc1\n",
      "HelloHelloHelloHello\n"
     ]
    }
   ],
   "source": [
    "# Operations in Strings\n",
    "my_str=\"Hello World\"\n",
    "print(my_str.lower()) # Converts everything to lower case.\n",
    "print(my_str.upper()) # Converts to upper Case.\n",
    "print(my_str.title()) # Capitalizes the 1st letter of every word.\n",
    "print(my_str.find(\"World\")) # Index of the first occurence else if not present then returns -1.\n",
    "print(my_str.split(\" \")) # Breaks down the string based on a demiliter into a list.\n",
    "\n",
    "print(\"abc\"+\"bcd\")\n",
    "print(\"abc\"+str(1))\n",
    "print(\"Hello\"*4)"
   ]
  },
  {
   "cell_type": "code",
   "execution_count": null,
   "id": "44ca1fc3",
   "metadata": {},
   "outputs": [],
   "source": []
  }
 ],
 "metadata": {
  "kernelspec": {
   "display_name": "Python 3",
   "language": "python",
   "name": "python3"
  },
  "language_info": {
   "codemirror_mode": {
    "name": "ipython",
    "version": 3
   },
   "file_extension": ".py",
   "mimetype": "text/x-python",
   "name": "python",
   "nbconvert_exporter": "python",
   "pygments_lexer": "ipython3",
   "version": "3.8.8"
  }
 },
 "nbformat": 4,
 "nbformat_minor": 5
}
