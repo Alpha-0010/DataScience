{
 "cells": [
  {
   "cell_type": "code",
   "execution_count": 1,
   "id": "aadecd5f",
   "metadata": {},
   "outputs": [
    {
     "name": "stdout",
     "output_type": "stream",
     "text": [
      "[6, 3, 2, 1, 0]   <class 'list'>\n",
      "6   0\n",
      "[3, 2, 1]\n"
     ]
    }
   ],
   "source": [
    "# Lists are like arrays in Python.\n",
    "# Ordered-sequence of collection of elements.\n",
    "# They are indexed and mutable.\n",
    "# Can store heterogeneous elements.\n",
    "\n",
    "my_list=[6,3,2,1,0]\n",
    "print(my_list,\" \",type(my_list))\n",
    "print(my_list[0],\" \",my_list[-1])\n",
    "print(my_list[1:-1])"
   ]
  },
  {
   "cell_type": "code",
   "execution_count": 2,
   "id": "07a14590",
   "metadata": {},
   "outputs": [
    {
     "name": "stdout",
     "output_type": "stream",
     "text": [
      "[99, 3, 2, 1, 0]\n"
     ]
    }
   ],
   "source": [
    "# Mutable\n",
    "my_list[0]=99\n",
    "print(my_list)"
   ]
  },
  {
   "cell_type": "code",
   "execution_count": 3,
   "id": "8e8605ca",
   "metadata": {},
   "outputs": [
    {
     "name": "stdout",
     "output_type": "stream",
     "text": [
      "[99, 3, 2, 1, 0, 33]\n",
      "[99, 88, 3, 2, 1, 0, 33]\n"
     ]
    },
    {
     "data": {
      "text/plain": [
       "88"
      ]
     },
     "execution_count": 3,
     "metadata": {},
     "output_type": "execute_result"
    }
   ],
   "source": [
    "# Some important methods in lists.\n",
    "\n",
    "# Add element at the end of the list.\n",
    "my_list.append(33)\n",
    "print(my_list)\n",
    "\n",
    "# Insert an element at a particular index\n",
    "my_list.insert(1,88)\n",
    "print(my_list)\n",
    "\n",
    "# Delete the last element.\n",
    "my_list.pop()\n",
    "\n",
    "\n",
    "# Delete at a particular index\n",
    "my_list.pop(1)"
   ]
  },
  {
   "cell_type": "code",
   "execution_count": 4,
   "id": "982de389",
   "metadata": {},
   "outputs": [
    {
     "name": "stdout",
     "output_type": "stream",
     "text": [
      "[0, 1, 2, 3, 99]\n"
     ]
    }
   ],
   "source": [
    "# Reverse a list\n",
    "my_list.reverse()\n",
    "print(my_list)"
   ]
  },
  {
   "cell_type": "code",
   "execution_count": 5,
   "id": "2a9f0833",
   "metadata": {},
   "outputs": [
    {
     "name": "stdout",
     "output_type": "stream",
     "text": [
      "[0, 1, 2, 3, 99]\n"
     ]
    }
   ],
   "source": [
    "# Sort in ascending order.\n",
    "my_list.sort()\n",
    "print(my_list)"
   ]
  },
  {
   "cell_type": "code",
   "execution_count": 6,
   "id": "bcf34000",
   "metadata": {},
   "outputs": [
    {
     "name": "stdout",
     "output_type": "stream",
     "text": [
      "[99, 3, 2, 1, 0]\n",
      "True\n",
      "99 3 2 1 0 "
     ]
    }
   ],
   "source": [
    "# Sort in descending order.\n",
    "my_list.sort(reverse=True)\n",
    "print(my_list)\n",
    "\n",
    "# Membership operator\n",
    "print(1 in my_list)\n",
    "\n",
    "# Looping over the elements of the list.\n",
    "for elem in my_list:\n",
    "    print(elem,end=\" \")"
   ]
  },
  {
   "cell_type": "code",
   "execution_count": 9,
   "id": "53cd9663",
   "metadata": {},
   "outputs": [
    {
     "name": "stdout",
     "output_type": "stream",
     "text": [
      "[9801, 9, 4, 1, 0]\n",
      "[9801, 9, 4, 1, 0]\n"
     ]
    }
   ],
   "source": [
    "# Creating a newlist of squares of each element.\n",
    "new_list=[]\n",
    "for elem in my_list:\n",
    "    new_list.append(elem**2)\n",
    "print(new_list)\n",
    "\n",
    "# Better way of doing this is by using List Comprehension.\n",
    "modified_list=[elem**2 for elem in my_list]\n",
    "print(modified_list)"
   ]
  },
  {
   "cell_type": "code",
   "execution_count": 11,
   "id": "0447793d",
   "metadata": {},
   "outputs": [
    {
     "name": "stdout",
     "output_type": "stream",
     "text": [
      "[4, 5, 6]\n",
      "4\n"
     ]
    }
   ],
   "source": [
    "# 2-D Matrix.\n",
    "list_2d=[ [1,2,3] , [4,5,6] , [7,8,9]]\n",
    "print(list_2d[1])\n",
    "print(list_2d[1][0])"
   ]
  },
  {
   "cell_type": "code",
   "execution_count": null,
   "id": "9ba70f7a",
   "metadata": {},
   "outputs": [],
   "source": []
  }
 ],
 "metadata": {
  "kernelspec": {
   "display_name": "Python 3",
   "language": "python",
   "name": "python3"
  },
  "language_info": {
   "codemirror_mode": {
    "name": "ipython",
    "version": 3
   },
   "file_extension": ".py",
   "mimetype": "text/x-python",
   "name": "python",
   "nbconvert_exporter": "python",
   "pygments_lexer": "ipython3",
   "version": "3.8.8"
  }
 },
 "nbformat": 4,
 "nbformat_minor": 5
}
