{
 "cells": [
  {
   "cell_type": "markdown",
   "id": "eaf59b22",
   "metadata": {},
   "source": [
    "#  Set\n",
    "    A) Mutable\n",
    "    B) Cantains Unique elements\n",
    "    C) Unordered and Unindexable"
   ]
  },
  {
   "cell_type": "code",
   "execution_count": 1,
   "id": "214cd1c9",
   "metadata": {},
   "outputs": [
    {
     "name": "stdout",
     "output_type": "stream",
     "text": [
      "{0, 1, 2, 7, 8, 9, -1}   <class 'set'>\n"
     ]
    }
   ],
   "source": [
    "my_set={9,7,8,9,-1,0,1,1,2}\n",
    "print(my_set,\" \",type(my_set))\n"
   ]
  },
  {
   "cell_type": "code",
   "execution_count": 2,
   "id": "74ca597c",
   "metadata": {},
   "outputs": [
    {
     "name": "stdout",
     "output_type": "stream",
     "text": [
      "{0, 1, 2, 99, 7, 8, 9, -1}\n"
     ]
    }
   ],
   "source": [
    "my_set.add(99)\n",
    "print(my_set)"
   ]
  },
  {
   "cell_type": "code",
   "execution_count": 3,
   "id": "14a75b38",
   "metadata": {},
   "outputs": [
    {
     "name": "stdout",
     "output_type": "stream",
     "text": [
      "{0, 1, 2, 99, 7, 9, -1}\n"
     ]
    }
   ],
   "source": [
    "my_set.remove(8)\n",
    "print(my_set)"
   ]
  },
  {
   "cell_type": "code",
   "execution_count": 4,
   "id": "9ebec9cf",
   "metadata": {},
   "outputs": [
    {
     "name": "stdout",
     "output_type": "stream",
     "text": [
      "0 1 2 99 7 9 -1 "
     ]
    }
   ],
   "source": [
    "for elem in my_set:\n",
    "    print(elem,end=\" \")"
   ]
  },
  {
   "cell_type": "code",
   "execution_count": null,
   "id": "15e4b381",
   "metadata": {},
   "outputs": [],
   "source": []
  }
 ],
 "metadata": {
  "kernelspec": {
   "display_name": "Python 3",
   "language": "python",
   "name": "python3"
  },
  "language_info": {
   "codemirror_mode": {
    "name": "ipython",
    "version": 3
   },
   "file_extension": ".py",
   "mimetype": "text/x-python",
   "name": "python",
   "nbconvert_exporter": "python",
   "pygments_lexer": "ipython3",
   "version": "3.8.8"
  }
 },
 "nbformat": 4,
 "nbformat_minor": 5
}
