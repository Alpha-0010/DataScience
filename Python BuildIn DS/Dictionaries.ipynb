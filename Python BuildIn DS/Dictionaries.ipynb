{
 "cells": [
  {
   "cell_type": "markdown",
   "id": "15df54ed",
   "metadata": {},
   "source": [
    "# Dictionary\n",
    "    A) Stores data in key,value pair.\n",
    "    B) Unordered and Unindexable.\n",
    "    C) Access the value with the help of keys."
   ]
  },
  {
   "cell_type": "code",
   "execution_count": 2,
   "id": "1a15b428",
   "metadata": {},
   "outputs": [
    {
     "name": "stdout",
     "output_type": "stream",
     "text": [
      "{'Name': 'John', 'age': 30}   <class 'dict'>\n"
     ]
    }
   ],
   "source": [
    "userInfo={\n",
    "    \"Name\": \"John\",\n",
    "    \"age\": 30\n",
    "}\n",
    "print(userInfo,\" \",type(userInfo))"
   ]
  },
  {
   "cell_type": "code",
   "execution_count": 4,
   "id": "5ad589c8",
   "metadata": {},
   "outputs": [
    {
     "name": "stdout",
     "output_type": "stream",
     "text": [
      "John\n",
      "John\n"
     ]
    }
   ],
   "source": [
    "# Access elements in a dictionary.\n",
    "print(userInfo['Name'])\n",
    "print(userInfo.get('Name'))"
   ]
  },
  {
   "cell_type": "code",
   "execution_count": 5,
   "id": "22c480be",
   "metadata": {},
   "outputs": [
    {
     "name": "stdout",
     "output_type": "stream",
     "text": [
      "{'Name': 'John', 'age': 30, 'hobby': ['Singing', 'Coding', 'Cricket']}\n"
     ]
    }
   ],
   "source": [
    "# Add data to the dictionary.\n",
    "userInfo['hobby']=['Singing','Coding','Cricket']\n",
    "print(userInfo)"
   ]
  },
  {
   "cell_type": "code",
   "execution_count": 11,
   "id": "91031fcf",
   "metadata": {},
   "outputs": [
    {
     "name": "stdout",
     "output_type": "stream",
     "text": [
      "dict_keys(['Name', 'age', 'hobby'])\n",
      "dict_values(['John', 30, ['Singing', 'Coding', 'Cricket']])\n",
      "dict_items([('Name', 'John'), ('age', 30), ('hobby', ['Singing', 'Coding', 'Cricket'])])\n"
     ]
    }
   ],
   "source": [
    "# To get all the keys.\n",
    "print(userInfo.keys())\n",
    "\n",
    "# To get all the values.\n",
    "print(userInfo.values())\n",
    "\n",
    "# To get key,value pair\n",
    "print(userInfo.items())"
   ]
  },
  {
   "cell_type": "code",
   "execution_count": 12,
   "id": "c5219fbc",
   "metadata": {},
   "outputs": [
    {
     "name": "stdout",
     "output_type": "stream",
     "text": [
      "Name   John\n",
      "age   30\n",
      "hobby   ['Singing', 'Coding', 'Cricket']\n"
     ]
    }
   ],
   "source": [
    "# Traversing over a dicitionary\n",
    "\n",
    "for k,v in userInfo.items():\n",
    "    print(k,\" \",v)"
   ]
  },
  {
   "cell_type": "code",
   "execution_count": 13,
   "id": "09ba2cbd",
   "metadata": {},
   "outputs": [
    {
     "data": {
      "text/plain": [
       "['Singing', 'Coding', 'Cricket']"
      ]
     },
     "execution_count": 13,
     "metadata": {},
     "output_type": "execute_result"
    }
   ],
   "source": [
    "# Delete a particular key.\n",
    "userInfo.pop('hobby')"
   ]
  },
  {
   "cell_type": "code",
   "execution_count": 14,
   "id": "7a863d31",
   "metadata": {},
   "outputs": [
    {
     "name": "stdout",
     "output_type": "stream",
     "text": [
      "{'Name': 'John', 'age': 30}\n"
     ]
    }
   ],
   "source": [
    "print(userInfo)"
   ]
  },
  {
   "cell_type": "code",
   "execution_count": 15,
   "id": "2fd2e94e",
   "metadata": {},
   "outputs": [
    {
     "name": "stdout",
     "output_type": "stream",
     "text": [
      "{'Name': 'Jake', 'age': 30}\n"
     ]
    }
   ],
   "source": [
    "# Change a particular Key.\n",
    "userInfo['Name']='Jake'\n",
    "print(userInfo)"
   ]
  },
  {
   "cell_type": "code",
   "execution_count": 17,
   "id": "c08cb08b",
   "metadata": {},
   "outputs": [
    {
     "name": "stdout",
     "output_type": "stream",
     "text": [
      "{'Name': 'Alex', 'age': 40, 'cgpa': 10}\n"
     ]
    }
   ],
   "source": [
    "# Another way to iterate over dictionary.\n",
    "dic={}\n",
    "keys=['Name','age','cgpa']\n",
    "values=['Alex',40,10]\n",
    "\n",
    "for i in range(len(keys)):\n",
    "    dic[keys[i]]=values[i]\n",
    "\n",
    "print(dic)"
   ]
  },
  {
   "cell_type": "code",
   "execution_count": null,
   "id": "18136856",
   "metadata": {},
   "outputs": [],
   "source": []
  }
 ],
 "metadata": {
  "kernelspec": {
   "display_name": "Python 3",
   "language": "python",
   "name": "python3"
  },
  "language_info": {
   "codemirror_mode": {
    "name": "ipython",
    "version": 3
   },
   "file_extension": ".py",
   "mimetype": "text/x-python",
   "name": "python",
   "nbconvert_exporter": "python",
   "pygments_lexer": "ipython3",
   "version": "3.8.8"
  }
 },
 "nbformat": 4,
 "nbformat_minor": 5
}
