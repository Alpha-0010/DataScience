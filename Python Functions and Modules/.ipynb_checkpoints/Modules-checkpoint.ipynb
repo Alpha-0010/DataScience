{
 "cells": [
  {
   "cell_type": "markdown",
   "id": "11e2df32",
   "metadata": {},
   "source": [
    "# Modules\n",
    "    A) Modules refer to a file containing Python Code.\n",
    "    B) Modules are used to break large programs into small manageable and organised files.\n",
    "    C) Used so that one module can be used in another module."
   ]
  },
  {
   "cell_type": "code",
   "execution_count": 1,
   "id": "b1714136",
   "metadata": {},
   "outputs": [],
   "source": [
    "# Inbuilt Modules\n",
    "#     A) os\n",
    "#     B) math\n",
    "#     C) random\n"
   ]
  },
  {
   "cell_type": "code",
   "execution_count": 11,
   "id": "9ff019d9",
   "metadata": {},
   "outputs": [
    {
     "name": "stdout",
     "output_type": "stream",
     "text": [
      "['__doc__', '__file__', '__loader__', '__name__', '__package__', '__spec__', 'acos', 'acosh', 'asin', 'asinh', 'atan', 'atan2', 'atanh', 'ceil', 'comb', 'copysign', 'cos', 'cosh', 'degrees', 'dist', 'e', 'erf', 'erfc', 'exp', 'expm1', 'fabs', 'factorial', 'floor', 'fmod', 'frexp', 'fsum', 'gamma', 'gcd', 'hypot', 'inf', 'isclose', 'isfinite', 'isinf', 'isnan', 'isqrt', 'ldexp', 'lgamma', 'log', 'log10', 'log1p', 'log2', 'modf', 'nan', 'perm', 'pi', 'pow', 'prod', 'radians', 'remainder', 'sin', 'sinh', 'sqrt', 'tan', 'tanh', 'tau', 'trunc']\n"
     ]
    }
   ],
   "source": [
    "# math inbuilt module\n",
    "import math\n",
    "print(dir(math)) # functions in math.py module."
   ]
  },
  {
   "cell_type": "code",
   "execution_count": 14,
   "id": "99d74a86",
   "metadata": {},
   "outputs": [
    {
     "name": "stdout",
     "output_type": "stream",
     "text": [
      "120\n",
      "10\n",
      "9\n",
      "2\n"
     ]
    }
   ],
   "source": [
    "print(math.factorial(5))\n",
    "print(math.ceil(9.01))\n",
    "print(math.floor(9.01))\n",
    "print(math.gcd(10,4))"
   ]
  },
  {
   "cell_type": "code",
   "execution_count": 20,
   "id": "4779d7c6",
   "metadata": {},
   "outputs": [
    {
     "name": "stdout",
     "output_type": "stream",
     "text": [
      "0.8141711059720461\n"
     ]
    }
   ],
   "source": [
    "# random inbuilt module---> Used for generating random data\n",
    "import random\n",
    "print(random.random())"
   ]
  },
  {
   "cell_type": "code",
   "execution_count": 24,
   "id": "e62a1e90",
   "metadata": {},
   "outputs": [
    {
     "name": "stdout",
     "output_type": "stream",
     "text": [
      "/home/shashwat/Documents/DataScience/Python Functions and Modules\n",
      "['Modules.ipynb', 'Functions.ipynb', '.ipynb_checkpoints']\n"
     ]
    }
   ],
   "source": [
    "# os inbuilt module----> Interact with the operating system using this module\n",
    "import os \n",
    "print(os.getcwd()) # Gives the complete directory path.\n",
    "print(os.listdir()) # Lists the files and folders in the current directory."
   ]
  },
  {
   "cell_type": "code",
   "execution_count": 39,
   "id": "61acc282",
   "metadata": {},
   "outputs": [],
   "source": [
    "# Custom module.\n",
    "# We have created a custom.py module lets use its functions over here.\n",
    "import custom"
   ]
  },
  {
   "cell_type": "code",
   "execution_count": 42,
   "id": "332f3963",
   "metadata": {},
   "outputs": [
    {
     "data": {
      "text/plain": [
       "'HelloAlex'"
      ]
     },
     "execution_count": 42,
     "metadata": {},
     "output_type": "execute_result"
    }
   ],
   "source": [
    "custom.greet(\"Alex\")"
   ]
  },
  {
   "cell_type": "code",
   "execution_count": null,
   "id": "2c685790",
   "metadata": {},
   "outputs": [],
   "source": [
    "# __name=='__main__' when we are directly run the python file.\n",
    "# __name__=='module name' when the module is imported in some other file and that file is run directly from the\n",
    "# terminal.\n"
   ]
  }
 ],
 "metadata": {
  "kernelspec": {
   "display_name": "Python 3",
   "language": "python",
   "name": "python3"
  },
  "language_info": {
   "codemirror_mode": {
    "name": "ipython",
    "version": 3
   },
   "file_extension": ".py",
   "mimetype": "text/x-python",
   "name": "python",
   "nbconvert_exporter": "python",
   "pygments_lexer": "ipython3",
   "version": "3.8.8"
  }
 },
 "nbformat": 4,
 "nbformat_minor": 5
}
