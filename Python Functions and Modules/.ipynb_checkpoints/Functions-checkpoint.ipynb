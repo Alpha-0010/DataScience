{
 "cells": [
  {
   "cell_type": "markdown",
   "id": "a3e11ecc",
   "metadata": {},
   "source": [
    "# Functions\n",
    "    A) More organised and modular code.\n",
    "    B) Helps in reusability of code and to reduce repetition of code."
   ]
  },
  {
   "cell_type": "code",
   "execution_count": 3,
   "id": "a05e08d1",
   "metadata": {},
   "outputs": [
    {
     "name": "stdout",
     "output_type": "stream",
     "text": [
      "Hello Alex\n",
      "<class 'function'>\n"
     ]
    }
   ],
   "source": [
    "# Function definition\n",
    "\n",
    "def greet(name):\n",
    "    print(\"Hello\",name)\n",
    "\n",
    "# function call\n",
    "greet(\"Alex\")\n",
    "print(type(greet))"
   ]
  },
  {
   "cell_type": "code",
   "execution_count": 6,
   "id": "1b49dc71",
   "metadata": {},
   "outputs": [
    {
     "name": "stdout",
     "output_type": "stream",
     "text": [
      "18\n"
     ]
    }
   ],
   "source": [
    "def add(a,b):\n",
    "    return a+b\n",
    "\n",
    "print(add(8,10))"
   ]
  },
  {
   "cell_type": "code",
   "execution_count": 8,
   "id": "5c5746d8",
   "metadata": {},
   "outputs": [
    {
     "name": "stdout",
     "output_type": "stream",
     "text": [
      "720\n"
     ]
    }
   ],
   "source": [
    "# Write a function to calculate the product of a list.\n",
    "def product(arr):\n",
    "    prod=1\n",
    "    for elem in arr:\n",
    "        prod=prod*elem\n",
    "    return prod\n",
    "\n",
    "arr=[1,2,3,4,5,6]\n",
    "print(product(arr))"
   ]
  },
  {
   "cell_type": "code",
   "execution_count": 11,
   "id": "5656af35",
   "metadata": {},
   "outputs": [
    {
     "name": "stdout",
     "output_type": "stream",
     "text": [
      "(10, 2, 24, 1.5)\n",
      "10   2   24   1.5\n"
     ]
    }
   ],
   "source": [
    "# In python we can return multiple values in the form of tuple.\n",
    "def calculator(a,b):\n",
    "    return (a+b,a-b,a*b,a/b)\n",
    "\n",
    "print(calculator(6,4))\n",
    "\n",
    "a,b,c,d=calculator(6,4)\n",
    "print(a,\" \",b,\" \",c,\" \",d)"
   ]
  },
  {
   "cell_type": "code",
   "execution_count": 12,
   "id": "23a68ec6",
   "metadata": {},
   "outputs": [],
   "source": [
    "# Parameters and Arguments.\n",
    "# Parameters are the variables passed to a function in function declaration and Arguments are the variables\n",
    "# passed during function call.\n",
    "\n",
    "# Types of parameters: Default, arbitary(args), keyword(kwargs).\n"
   ]
  },
  {
   "cell_type": "code",
   "execution_count": 16,
   "id": "7d6aa460",
   "metadata": {},
   "outputs": [
    {
     "name": "stdout",
     "output_type": "stream",
     "text": [
      "Hello   Alex   America\n",
      "Hello   Rohit   Indian\n"
     ]
    }
   ],
   "source": [
    "# Default parameters--> If someone doesnot give the argument then also it should give the default value.\n",
    "# And default parameters should always be in the end. Give first the non-default arguments then the default\n",
    "# arguments.\n",
    "def intro(name,nationality=\"Indian\"):\n",
    "    print(\"Hello\",\" \",name,\" \",nationality)\n",
    "\n",
    "intro(\"Alex\",\"America\")\n",
    "intro(\"Rohit\")\n"
   ]
  },
  {
   "cell_type": "code",
   "execution_count": 21,
   "id": "7ad6f39d",
   "metadata": {},
   "outputs": [
    {
     "name": "stdout",
     "output_type": "stream",
     "text": [
      "(10, 1, 2, 3, 4)\n",
      "<class 'tuple'>\n",
      "10 1 2 3 4 "
     ]
    }
   ],
   "source": [
    "# Arbitary Arguments--> It can receive any number of arguments.\n",
    "# Used when we don't know about the number of parameters that the user is going to pass.\n",
    "def random_func(*args):\n",
    "    print(args)\n",
    "    print(type(args))\n",
    "    for i in args:\n",
    "        print(i,end=\" \")\n",
    "\n",
    "random_func(10,1,2,3,4)"
   ]
  },
  {
   "cell_type": "code",
   "execution_count": 26,
   "id": "52fc5a26",
   "metadata": {},
   "outputs": [
    {
     "name": "stdout",
     "output_type": "stream",
     "text": [
      "{'name': 'Alex', 'hobby': ['Singing', 'Soccer'], 'nationality': 'Canadian'}\n",
      "<class 'dict'>\n",
      "Alex ['Singing', 'Soccer'] Canadian "
     ]
    }
   ],
   "source": [
    "# Keyword Arguments--> It also takes any number of arguments and stores them in the form of a dictionary.\n",
    "\n",
    "def introduction(**kwargs):\n",
    "    print(kwargs)\n",
    "    print(type(kwargs))\n",
    "    \n",
    "    for i in kwargs.keys():\n",
    "        print(kwargs[i],end=\" \")\n",
    "    \n",
    "introduction(name=\"Alex\",hobby=[\"Singing\",\"Soccer\"], nationality=\"Canadian\")"
   ]
  },
  {
   "cell_type": "markdown",
   "id": "2ef4fe38",
   "metadata": {},
   "source": [
    "# In-Built Function in Python\n",
    "    A) print()\n",
    "    B) abs()\n",
    "    C) round()\n",
    "    D) Aggregation Functions: sum(),max(),min()\n",
    "    E) filter()\n",
    "    F) map()"
   ]
  },
  {
   "cell_type": "code",
   "execution_count": 29,
   "id": "b6e37a98",
   "metadata": {},
   "outputs": [
    {
     "name": "stdout",
     "output_type": "stream",
     "text": [
      "10\n",
      "5.68\n"
     ]
    }
   ],
   "source": [
    "print(abs(-10))\n",
    "print(round(5.678,2))"
   ]
  },
  {
   "cell_type": "code",
   "execution_count": 32,
   "id": "644f6e88",
   "metadata": {},
   "outputs": [
    {
     "name": "stdout",
     "output_type": "stream",
     "text": [
      "219\n",
      "100\n",
      "-1\n"
     ]
    }
   ],
   "source": [
    "# Aggregate functions.\n",
    "my_list=[20,100,-1,1,0,99]\n",
    "print(sum(my_list))\n",
    "print(max(my_list))\n",
    "print(min(my_list))"
   ]
  },
  {
   "cell_type": "code",
   "execution_count": 37,
   "id": "42c8c92a",
   "metadata": {},
   "outputs": [
    {
     "name": "stdout",
     "output_type": "stream",
     "text": [
      "<map object at 0x7fabf0ae8670>\n",
      "[0, 2, 3, 21]\n"
     ]
    }
   ],
   "source": [
    "# Map\n",
    "# Used when we wish to apply certain operation to all the elements in a list like adding one to each element of\n",
    "# the list.\n",
    "# map(func_name,list_name)\n",
    "def add_one(elem):\n",
    "    return elem+1\n",
    "\n",
    "my_lst=[-1,1,2,20]\n",
    "new_list=map(add_one,my_lst)\n",
    "print(new_list)\n",
    "print(list(new_list))"
   ]
  },
  {
   "cell_type": "code",
   "execution_count": 40,
   "id": "ca61997a",
   "metadata": {},
   "outputs": [
    {
     "name": "stdout",
     "output_type": "stream",
     "text": [
      "<filter object at 0x7fabf119f5e0>\n",
      "[2, 10, 8, 0, 14]\n"
     ]
    }
   ],
   "source": [
    "# Filter function.\n",
    "# This is used if we have to filter out certain type of elements from the list.\n",
    "# Like in this case we will filter out the even elements from a list.\n",
    "# filter(func_name,list_name)\n",
    "def isEven(elem):\n",
    "    return elem%2==0\n",
    "\n",
    "arr=[1,2,10,3,5,8,9,0,-1,14]\n",
    "new_arr=filter(isEven,arr)\n",
    "print(new_arr)\n",
    "print(list(new_arr))"
   ]
  },
  {
   "cell_type": "code",
   "execution_count": null,
   "id": "a9f0bf08",
   "metadata": {},
   "outputs": [],
   "source": []
  }
 ],
 "metadata": {
  "kernelspec": {
   "display_name": "Python 3",
   "language": "python",
   "name": "python3"
  },
  "language_info": {
   "codemirror_mode": {
    "name": "ipython",
    "version": 3
   },
   "file_extension": ".py",
   "mimetype": "text/x-python",
   "name": "python",
   "nbconvert_exporter": "python",
   "pygments_lexer": "ipython3",
   "version": "3.8.8"
  }
 },
 "nbformat": 4,
 "nbformat_minor": 5
}
