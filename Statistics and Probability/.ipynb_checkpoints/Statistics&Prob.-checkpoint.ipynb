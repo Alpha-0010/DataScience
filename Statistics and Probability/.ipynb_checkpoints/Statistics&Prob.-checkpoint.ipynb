{
 "cells": [
  {
   "cell_type": "code",
   "execution_count": 1,
   "id": "97506cfe",
   "metadata": {},
   "outputs": [],
   "source": [
    "# Data is a collection of known facts like Temp. of last 30 days in your city, number of students in a class, etc.\n",
    "# Data is classified into two types: Qualitative and Quantitative.\n",
    "\n",
    "# Qualitative Data: Categorical or the text Data. Eg: Gender,Name,Country,...\n",
    "# Quantitative Data: Numerical Data. Eg: House Price, Temperature, Marks,...\n",
    "\n",
    "# Data can be used for \n",
    "# Analyzing Data, \n",
    "# Representing it in pictorial format(Data Viz.), \n",
    "# Creating ML models using data."
   ]
  },
  {
   "cell_type": "code",
   "execution_count": 2,
   "id": "e1286c05",
   "metadata": {},
   "outputs": [],
   "source": [
    "# Statistics: \n",
    "# The area of mathematics that concerns about Data Collection, Data Analysis(Data Visualization). \n",
    "# Statistics can be used to answer questions about the data using some statistical models or statistical \n",
    "# techniques like median,mean,mode, standard deviation. \n",
    "# Eg:\n",
    "# i) Average T-Shirt size in an organization.\n",
    "# ii) Find the potential features for people buying credit card."
   ]
  },
  {
   "cell_type": "code",
   "execution_count": 3,
   "id": "7e3da2eb",
   "metadata": {},
   "outputs": [],
   "source": [
    "# Probability:\n",
    "# How likely an event is going to occur.\n",
    "# Eg: Probabiliy of getting a Head when a coin is tossed, Probability that it will rain given you go out for\n",
    "# Shopping.\n",
    "\n",
    "# Probability is used in a lot of Machine Learning Algorithms like Naive Bayes, Logistic Regression,...\n"
   ]
  },
  {
   "cell_type": "code",
   "execution_count": 4,
   "id": "f4147ac2",
   "metadata": {},
   "outputs": [],
   "source": [
    "# Population Vs Sample\n",
    "\n",
    "# Population: Set of all Objects/Events that needs to be analyzed. This is the universal data.\n",
    "# Eg: Average Height of all Humans. \n",
    "\n",
    "# Sample: Subset of Population. Carefully select some data out of the population and a well chosen sample contains\n",
    "# most of the information about the population.\n",
    "\n",
    "# Sampling Techniques:\n",
    "#     i) Random Sampling.\n",
    "#     ii) Stratified Sampling.[Formulate some strategy to get a suitable Sample out of Population]"
   ]
  },
  {
   "cell_type": "code",
   "execution_count": 5,
   "id": "85aa0639",
   "metadata": {},
   "outputs": [],
   "source": [
    "# Types of Statistics:\n",
    "\n",
    "# i) Descriptive Stats:\n",
    "#     A) Measure of Central Tendency: Mean,Median,Mode.  [Deals with the Central ]\n",
    "#     B) Measure of Variability: Range, Variance, Standard Deviation. [Deals with Spread of Data]\n",
    "\n",
    "# ii) Inferential Stats:\n",
    "#    [Using Sample data predict]  Eg: Hypothesis Testing."
   ]
  },
  {
   "cell_type": "code",
   "execution_count": 6,
   "id": "f336c1c1",
   "metadata": {},
   "outputs": [
    {
     "name": "stdout",
     "output_type": "stream",
     "text": [
      "64.04761904761905\n",
      "61\n",
      "68 2\n"
     ]
    }
   ],
   "source": [
    "# Measure of Central Tendency:\n",
    "#     A) Mean: Measure of average of all values in a sample set.\n",
    "#     B) Mode: Most frequent value in a sample set.\n",
    "#     C) Median: Central value of the sample set[Ordered way].\n",
    "\n",
    "marks=[75,82,91,100,10,45,60,61,68,92,93,55,46,48,31,83,74,68,48,56,59]\n",
    "# Mean\n",
    "mean=sum(marks)/len(marks)\n",
    "print(mean)\n",
    "\n",
    "# Median --> If the length is odd then find the middle element, if it is even then take the average of the midlle \n",
    "# elements.\n",
    "sorted_marks=sorted(marks)\n",
    "idx=len(sorted_marks)//2\n",
    "if((len(sorted_marks)%2)!=0):\n",
    "    median=sorted_marks[idx]\n",
    "    print(median)\n",
    "else:\n",
    "    elem1=sorted_marks[idx]\n",
    "    elem2=sorted_marks[idx+1]\n",
    "    median =(elem1+elem2)/2\n",
    "    print(median)\n",
    "\n",
    "# Mode\n",
    "dic={}\n",
    "for elem in marks:\n",
    "    if elem in dic:\n",
    "        dic[elem]+=1\n",
    "    else:\n",
    "        dic[elem]=1\n",
    "\n",
    "maxFreq=-1\n",
    "mode=None\n",
    "for k,v in dic.items():\n",
    "    if v>maxFreq:\n",
    "        mode=k\n",
    "        maxFreq=v\n",
    "\n",
    "print(mode,maxFreq)"
   ]
  },
  {
   "cell_type": "code",
   "execution_count": 7,
   "id": "bd7c86ae",
   "metadata": {},
   "outputs": [
    {
     "name": "stdout",
     "output_type": "stream",
     "text": [
      "90\n",
      "475.4739229024943\n",
      "21.80536454413212\n"
     ]
    }
   ],
   "source": [
    "# Measure of Variability:\n",
    "#     i) Range: maxValue-minValue\n",
    "#     ii) Variance: How much the data differs from the central value.\n",
    "#         var=(1/n)*((summationOf(x-mean))^2)\n",
    "#     iii) Standard Deviation: Spread of data from mean.\n",
    "#             sd= sqrt(var)\n",
    "\n",
    "marks=[75,82,91,100,10,45,60,61,68,92,93,55,46,48,31,83,74,68,48,56,59]\n",
    "mean=sum(marks)/len(marks)\n",
    "\n",
    "# Range\n",
    "Range=max(marks)-min(marks)\n",
    "print(Range)\n",
    "\n",
    "# Variance\n",
    "cnt=0\n",
    "for elem in marks:\n",
    "    cnt+=((elem-mean)**2)\n",
    "\n",
    "var=cnt/len(marks)\n",
    "print(var)\n",
    "\n",
    "# Standard Deviation\n",
    "sd=var**0.5\n",
    "print(sd)"
   ]
  },
  {
   "cell_type": "code",
   "execution_count": 8,
   "id": "df9347f2",
   "metadata": {},
   "outputs": [],
   "source": [
    "# Histogram: Pictorial representation of data. Best graph to show how the data is scattered across different ranges\n",
    "# marks=[75,82,71,92,48,75,97,59,62,75,82,78,66,76,71]\n",
    "# range=100-40=60\n",
    "# No. of Buckets=6\n",
    "# Bucket Size=60/6=10"
   ]
  },
  {
   "cell_type": "code",
   "execution_count": 9,
   "id": "19bcb6af",
   "metadata": {},
   "outputs": [],
   "source": [
    "# Probability Density Function(PDF): The function which we plot over a histogram so that it fits the graph.\n",
    "# If looks like a bell shaped curve.\n",
    "# Normally, we are given normal Distributed data or Gausian Distribution.\n",
    "\n",
    "# It tells a lot of things about the data. It gives the probability of 'y' at a given 'x'. Let (x,y) be a point \n",
    "# on the curve then 'y' is the probability of getting 'x'. And at the mean value(Middle value of x) the value of \n",
    "# 'y' will be highest. The standard deviation(Spread) can also be determined with the help of a PDA. \n",
    "# The difference on the 'x' values at two points equal probs. gives the Spread[Standard Deviation].\n",
    "\n",
    "# Eg: Marks on the 'X' axis and Probability of Number of Students getting that marks on the 'Y' axis.\n",
    "\n",
    "# Not necessarily the PDA is a bell shaped curve. It will be a bell shaped curve for Normally Distributed data\n",
    "# but for uniform distribution[Probability of getting every event is same] it will be a constant graph.\n",
    "\n",
    "\n",
    "# So, basically a distribution tells the spread of data across a whole range of independent variable.With the help\n",
    "# of a distribution we can determine the 'Mean' value and the 'Standard Deviation'."
   ]
  },
  {
   "cell_type": "code",
   "execution_count": 10,
   "id": "7b6878f1",
   "metadata": {},
   "outputs": [
    {
     "name": "stdout",
     "output_type": "stream",
     "text": [
      "-0.005593317069979666\n",
      "0.9999999999999999\n"
     ]
    }
   ],
   "source": [
    "# Standard Normal Distribution[Standarization]:\n",
    "# Its mean will be Zero and the standard deviation will be 1. We will have to convert our Normal Dstribution into\n",
    "# Standard Normal Distribution. This is done for the Machine Learning ALgorithms because Machine learning\n",
    "# algorithm works on Standard Data.\n",
    "\n",
    "# To change the Normal Distribution, first Shift the mean(x-x̅) for all x. Now the mean(x̅) has become 0. To Shrink\n",
    "# Standard devaition we will divide it by sd. \n",
    "\n",
    "# Formula:\n",
    "# xNew= ((x-x̅)/sd)\n",
    "\n",
    "# Now the mean is 0 and the standard Deviation is 1. For each x subtract it with mean value and divide it by \n",
    "# the Standard Deviation.\n",
    "\n",
    "marks=[75,82,71,92,48,75,97,59,62,75,82,78,66,76,71]\n",
    "# Mean\n",
    "mean=sum(marks)/len(marks)\n",
    "# Standard Deviation\n",
    "cnt=0\n",
    "for elem in marks:\n",
    "    cnt+=((elem-mean)**2)\n",
    "\n",
    "var=cnt/len(marks)\n",
    "sd=(var)**0.5\n",
    "\n",
    "# Standard normal Deviation\n",
    "newMarks=[]\n",
    "\n",
    "for i in range(len(marks)):\n",
    "    m=(marks[i]-round(mean))/sd\n",
    "    newMarks.append(m)\n",
    "\n",
    "newMean=sum(newMarks)/len(newMarks)\n",
    "print(newMean)  # Close to 0.\n",
    "\n",
    "cnt=0\n",
    "for elem in newMarks:\n",
    "    cnt+=((elem-newMean)**2)\n",
    "\n",
    "newVar=cnt/len(newMarks)\n",
    "newSd=(newVar)**0.5\n",
    "\n",
    "print(newSd)"
   ]
  },
  {
   "cell_type": "code",
   "execution_count": 11,
   "id": "336ce4a2",
   "metadata": {},
   "outputs": [],
   "source": [
    "# Different Types of Probability:\n",
    "# i) Marginal Prob. or Simple prob. [NumberOfFavourableOutcomes/TotalNumberOfOutcomes].\n",
    "# ii) Joint Prob.  [P(A∩B) or P(AUB)].\n",
    "# iii) Conditional Prob. [ P(A|B) ==> Probability of A happening given B has already happenend].\n",
    "# P(A|B) = P(A∩B)/P(B)"
   ]
  },
  {
   "cell_type": "code",
   "execution_count": 12,
   "id": "56509c6a",
   "metadata": {},
   "outputs": [],
   "source": [
    "# Bayes Theorem.\n",
    "# Most important topic in the field of Probability Theory.\n",
    "# Machine Learning Nayes Bayes Algorithm is completely based on Bayes Algorithm.\n",
    "\n",
    "# P(A/B) = ((P(B/A) * P(A))/P(B))\n",
    "\n",
    "# P(A/B)  ==> Posterior Probability.\n",
    "# P(A)   ==> Prior Probability.\n",
    "# P(B)  ==> Marginal Probability.\n",
    "# P(B/A)  ==> Likelihood."
   ]
  },
  {
   "cell_type": "code",
   "execution_count": null,
   "id": "e4741a74",
   "metadata": {},
   "outputs": [],
   "source": []
  }
 ],
 "metadata": {
  "kernelspec": {
   "display_name": "Python 3",
   "language": "python",
   "name": "python3"
  },
  "language_info": {
   "codemirror_mode": {
    "name": "ipython",
    "version": 3
   },
   "file_extension": ".py",
   "mimetype": "text/x-python",
   "name": "python",
   "nbconvert_exporter": "python",
   "pygments_lexer": "ipython3",
   "version": "3.8.8"
  }
 },
 "nbformat": 4,
 "nbformat_minor": 5
}
