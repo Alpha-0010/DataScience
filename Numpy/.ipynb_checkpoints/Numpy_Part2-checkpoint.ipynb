{
 "cells": [
  {
   "cell_type": "markdown",
   "id": "fb1616eb",
   "metadata": {},
   "source": [
    "# Indexing in Numpy Array"
   ]
  },
  {
   "cell_type": "code",
   "execution_count": 3,
   "id": "8f9de018",
   "metadata": {},
   "outputs": [
    {
     "name": "stdout",
     "output_type": "stream",
     "text": [
      "[[89 18 43 79]\n",
      " [11 66 51 47]\n",
      " [20 80 84 85]\n",
      " [57 25 29 63]\n",
      " [54 59 10 49]]\n"
     ]
    }
   ],
   "source": [
    "# Generate a random 5*4 array will numbers between 10 and 100.\n",
    "import numpy as np\n",
    "arr=np.random.randint(10,100,(5,4))\n",
    "print(arr)"
   ]
  },
  {
   "cell_type": "code",
   "execution_count": 8,
   "id": "abc88284",
   "metadata": {},
   "outputs": [
    {
     "name": "stdout",
     "output_type": "stream",
     "text": [
      "[89 18 43 79]\n",
      "[54 59 10 49]\n",
      "49\n",
      "49\n",
      "(5, 4)\n"
     ]
    }
   ],
   "source": [
    "# First row\n",
    "print(arr[0])\n",
    "# Last row\n",
    "print(arr[-1])\n",
    "# Last element\n",
    "print(arr[-1][-1])\n",
    "print(arr[-1,-1]) # We can also use ',' to access an element in a 2-D matrix.\n",
    "# Array element distribution.\n",
    "print(arr.shape)"
   ]
  },
  {
   "cell_type": "code",
   "execution_count": 9,
   "id": "c308ba89",
   "metadata": {},
   "outputs": [
    {
     "name": "stdout",
     "output_type": "stream",
     "text": [
      "[[80 84 85]\n",
      " [25 29 63]\n",
      " [59 10 49]]\n"
     ]
    }
   ],
   "source": [
    "# Array Slicing.\n",
    "# arr[startRowIdx: endRowIdx+1 , startColIdx: endColIdx+1]\n",
    "print(arr[2:5,1:4])"
   ]
  },
  {
   "cell_type": "code",
   "execution_count": 10,
   "id": "b601399f",
   "metadata": {},
   "outputs": [
    {
     "name": "stdout",
     "output_type": "stream",
     "text": [
      "[[ True False False  True]\n",
      " [False  True  True False]\n",
      " [False  True  True  True]\n",
      " [ True False False  True]\n",
      " [ True  True False False]]\n"
     ]
    }
   ],
   "source": [
    "# Masking.\n",
    "mask=arr>50\n",
    "print(mask)"
   ]
  },
  {
   "cell_type": "code",
   "execution_count": 13,
   "id": "c097005d",
   "metadata": {},
   "outputs": [
    {
     "name": "stdout",
     "output_type": "stream",
     "text": [
      "11\n"
     ]
    }
   ],
   "source": [
    "# Number of elements greater than 50. All true value will be added and true will be considered as 1.\n",
    "print(np.sum(mask))"
   ]
  },
  {
   "cell_type": "code",
   "execution_count": 14,
   "id": "8db6f02f",
   "metadata": {},
   "outputs": [
    {
     "name": "stdout",
     "output_type": "stream",
     "text": [
      "[89 79 66 51 80 84 85 57 63 54 59]\n"
     ]
    }
   ],
   "source": [
    "# Get all values greater than 50.\n",
    "print(arr[mask])"
   ]
  },
  {
   "cell_type": "code",
   "execution_count": 15,
   "id": "41d3f9ad",
   "metadata": {},
   "outputs": [
    {
     "name": "stdout",
     "output_type": "stream",
     "text": [
      "[[89 18 43 79]\n",
      " [11 66 51 47]\n",
      " [20 80  0  0]\n",
      " [57 25  0  0]\n",
      " [54 59  0  0]]\n"
     ]
    }
   ],
   "source": [
    "# Make the elements from 3rd row, 3rd col to the end 0.\n",
    "arr[2: ,2: ]=0\n",
    "print(arr)"
   ]
  },
  {
   "cell_type": "markdown",
   "id": "2cdbf55e",
   "metadata": {},
   "source": [
    "# Basic Operations in Arrays"
   ]
  },
  {
   "cell_type": "code",
   "execution_count": 25,
   "id": "1275c685",
   "metadata": {},
   "outputs": [
    {
     "name": "stdout",
     "output_type": "stream",
     "text": [
      "[11 22 33 44]\n",
      "[ 9 18 27 36]\n",
      "[ 10  40  90 160]\n",
      "[ 1  4  9 16]\n"
     ]
    }
   ],
   "source": [
    "a=np.array([10,20,30,40])\n",
    "b=np.arange(1,5)\n",
    "# These operations happen element-wise. These are called element-wise operators.\n",
    "print(a+b)\n",
    "print(a-b)\n",
    "print(a*b)\n",
    "print(b**2)"
   ]
  },
  {
   "cell_type": "code",
   "execution_count": 24,
   "id": "fddfcca7",
   "metadata": {},
   "outputs": [
    {
     "name": "stdout",
     "output_type": "stream",
     "text": [
      "[False  True  True  True]\n"
     ]
    }
   ],
   "source": [
    "# Mask.\n",
    "print(a>15)"
   ]
  },
  {
   "cell_type": "code",
   "execution_count": 27,
   "id": "7f7312e3",
   "metadata": {},
   "outputs": [
    {
     "name": "stdout",
     "output_type": "stream",
     "text": [
      "[0.         0.69314718 1.09861229 1.38629436]\n",
      "[-0.54402111  0.91294525 -0.98803162  0.74511316]\n"
     ]
    }
   ],
   "source": [
    "# Take log() of all the elements of the Array b.\n",
    "print(np.log(b))\n",
    "# Take sin() of all the elements of the Array a.\n",
    "print(np.sin(a))"
   ]
  },
  {
   "cell_type": "markdown",
   "id": "406b01b7",
   "metadata": {},
   "source": [
    "#  Matrix Product\n",
    "    Used heavily in Linear Algebra [Matrices can only be multiplied if the number of cols of first matrix is \n",
    "    same as the number of rows of the second matrix]."
   ]
  },
  {
   "cell_type": "code",
   "execution_count": 28,
   "id": "7856694d",
   "metadata": {},
   "outputs": [],
   "source": [
    "A=np.random.randint(0,5,(3,4))\n",
    "B=np.random.randint(0,5,(4,2))"
   ]
  },
  {
   "cell_type": "code",
   "execution_count": 30,
   "id": "4c91b6ca",
   "metadata": {},
   "outputs": [
    {
     "name": "stdout",
     "output_type": "stream",
     "text": [
      "[[ 9 16]\n",
      " [15 28]\n",
      " [13  3]]\n"
     ]
    }
   ],
   "source": [
    "# To multiply two matrices we use '.' It is also known as the Dot product.\n",
    "print(np.dot(A,B))"
   ]
  },
  {
   "cell_type": "code",
   "execution_count": 35,
   "id": "2515b2ee",
   "metadata": {},
   "outputs": [
    {
     "name": "stdout",
     "output_type": "stream",
     "text": [
      "(24,)\n",
      "[ 0  1  2  3  4  5  6  7  8  9 10 11 12 13 14 15 16 17 18 19 20 21 22 23]\n",
      "(6, 4)\n",
      "[[ 0  1  2  3]\n",
      " [ 4  5  6  7]\n",
      " [ 8  9 10 11]\n",
      " [12 13 14 15]\n",
      " [16 17 18 19]\n",
      " [20 21 22 23]]\n"
     ]
    }
   ],
   "source": [
    "A=np.arange(0,24)\n",
    "print(A.shape)\n",
    "print(A)\n",
    "# Reshape the Array A.\n",
    "A=A.reshape(6,4)\n",
    "print(A.shape)\n",
    "print(A)"
   ]
  },
  {
   "cell_type": "code",
   "execution_count": 37,
   "id": "be53fa20",
   "metadata": {},
   "outputs": [
    {
     "data": {
      "text/plain": [
       "array([[0.        , 1.        , 1.41421356, 1.73205081],\n",
       "       [2.        , 2.23606798, 2.44948974, 2.64575131],\n",
       "       [2.82842712, 3.        , 3.16227766, 3.31662479],\n",
       "       [3.46410162, 3.60555128, 3.74165739, 3.87298335],\n",
       "       [4.        , 4.12310563, 4.24264069, 4.35889894],\n",
       "       [4.47213595, 4.58257569, 4.69041576, 4.79583152]])"
      ]
     },
     "execution_count": 37,
     "metadata": {},
     "output_type": "execute_result"
    }
   ],
   "source": [
    "np.sqrt(A)"
   ]
  },
  {
   "cell_type": "code",
   "execution_count": 38,
   "id": "f0e2dd46",
   "metadata": {},
   "outputs": [
    {
     "data": {
      "text/plain": [
       "276"
      ]
     },
     "execution_count": 38,
     "metadata": {},
     "output_type": "execute_result"
    }
   ],
   "source": [
    "np.sum(A)"
   ]
  },
  {
   "cell_type": "code",
   "execution_count": 39,
   "id": "81c81f75",
   "metadata": {},
   "outputs": [
    {
     "data": {
      "text/plain": [
       "23"
      ]
     },
     "execution_count": 39,
     "metadata": {},
     "output_type": "execute_result"
    }
   ],
   "source": [
    "np.max(A)"
   ]
  },
  {
   "cell_type": "code",
   "execution_count": 40,
   "id": "41ef913b",
   "metadata": {},
   "outputs": [
    {
     "data": {
      "text/plain": [
       "0"
      ]
     },
     "execution_count": 40,
     "metadata": {},
     "output_type": "execute_result"
    }
   ],
   "source": [
    "np.min(A)"
   ]
  },
  {
   "cell_type": "code",
   "execution_count": 41,
   "id": "6efcb16f",
   "metadata": {},
   "outputs": [
    {
     "data": {
      "text/plain": [
       "11.5"
      ]
     },
     "execution_count": 41,
     "metadata": {},
     "output_type": "execute_result"
    }
   ],
   "source": [
    "# Mean of the Array A.\n",
    "np.mean(A)"
   ]
  },
  {
   "cell_type": "code",
   "execution_count": 42,
   "id": "4c6ab866",
   "metadata": {},
   "outputs": [
    {
     "data": {
      "text/plain": [
       "6.922186552431729"
      ]
     },
     "execution_count": 42,
     "metadata": {},
     "output_type": "execute_result"
    }
   ],
   "source": [
    "# Standard Deviation of the elements.\n",
    "np.std(A)"
   ]
  },
  {
   "cell_type": "code",
   "execution_count": 46,
   "id": "66f66d3c",
   "metadata": {},
   "outputs": [
    {
     "name": "stdout",
     "output_type": "stream",
     "text": [
      "[60 66 72 78]\n",
      "[ 6 22 38 54 70 86]\n",
      "[ 1.5  5.5  9.5 13.5 17.5 21.5]\n"
     ]
    }
   ],
   "source": [
    "# Sum of each column.\n",
    "print(np.sum(A,axis=0))\n",
    "# Sum of each row.\n",
    "print(np.sum(A,axis=1))\n",
    "# Mean of each row.\n",
    "print(np.mean(A,axis=1))"
   ]
  },
  {
   "cell_type": "code",
   "execution_count": null,
   "id": "5c15adeb",
   "metadata": {},
   "outputs": [],
   "source": []
  }
 ],
 "metadata": {
  "kernelspec": {
   "display_name": "Python 3",
   "language": "python",
   "name": "python3"
  },
  "language_info": {
   "codemirror_mode": {
    "name": "ipython",
    "version": 3
   },
   "file_extension": ".py",
   "mimetype": "text/x-python",
   "name": "python",
   "nbconvert_exporter": "python",
   "pygments_lexer": "ipython3",
   "version": "3.8.8"
  }
 },
 "nbformat": 4,
 "nbformat_minor": 5
}
