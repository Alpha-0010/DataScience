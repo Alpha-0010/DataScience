{
 "cells": [
  {
   "cell_type": "markdown",
   "id": "b156baf3",
   "metadata": {},
   "source": [
    "# Numpy\n",
    "    A) Numerical Computation library fro python.\n",
    "    B) Supports multi-dimentional arrays and matrices.\n",
    "    C) Lot of in-built mathematical functions.\n",
    "    D) Comes very handy in Machine Learning and Data Science."
   ]
  },
  {
   "cell_type": "code",
   "execution_count": 2,
   "id": "25d50264",
   "metadata": {},
   "outputs": [
    {
     "name": "stdout",
     "output_type": "stream",
     "text": [
      "Requirement already satisfied: numpy in /home/shashwat/anaconda3/lib/python3.8/site-packages (1.20.1)\r\n"
     ]
    }
   ],
   "source": [
    "!pip install numpy # We have added '!' because if we wish to run a command on terminal we use '!'."
   ]
  },
  {
   "cell_type": "code",
   "execution_count": 3,
   "id": "588f310d",
   "metadata": {},
   "outputs": [],
   "source": [
    "import numpy as np"
   ]
  },
  {
   "cell_type": "markdown",
   "id": "8af1c717",
   "metadata": {},
   "source": [
    "#  Why numpy not lists in python?\n",
    "    A) Performs fast operations(because of vectorization).\n",
    "    B) numpy arrays can be treated as vectors and matrices from linear algebra."
   ]
  },
  {
   "cell_type": "code",
   "execution_count": 4,
   "id": "f4b935b6",
   "metadata": {},
   "outputs": [
    {
     "name": "stdout",
     "output_type": "stream",
     "text": [
      "2.26 µs ± 57.1 ns per loop (mean ± std. dev. of 7 runs, 100000 loops each)\n",
      "621 ns ± 4.72 ns per loop (mean ± std. dev. of 7 runs, 1000000 loops each)\n"
     ]
    }
   ],
   "source": [
    "# Point--(i)  Faster than lists.\n",
    "# We can see that it takes more time in case of lists. This proves that operations performed using numpy arrays\n",
    "# are faster than lists.\n",
    "lst=[1,2,3,4,5,6,7,8,9,10]\n",
    "%timeit [i**2 for i in lst]\n",
    "arr=np.array(lst)\n",
    "%timeit arr**2"
   ]
  },
  {
   "cell_type": "code",
   "execution_count": 6,
   "id": "47b380e5",
   "metadata": {},
   "outputs": [
    {
     "name": "stdout",
     "output_type": "stream",
     "text": [
      "[ 2  3  4  5  6  7  8  9 10 11]\n"
     ]
    }
   ],
   "source": [
    "# Point---(ii)  Can be used as vectors and matrices from linear algebra.\n",
    "# So we basically added 1 to every element than linear algebra lists we can't do this with normal python lists.\n",
    "arr=arr+1  \n",
    "print(arr)"
   ]
  },
  {
   "cell_type": "code",
   "execution_count": 11,
   "id": "0cc87c4e",
   "metadata": {},
   "outputs": [
    {
     "name": "stdout",
     "output_type": "stream",
     "text": [
      "[ 1  2  6  0 -1]   <class 'numpy.ndarray'>\n",
      "1\n",
      "(5,)\n"
     ]
    }
   ],
   "source": [
    "# Numpy Arrays ==> Homogeneous Arrays not Heterogeneous like lists. It can be n-dimentional.\n",
    "# Numpy Creation: np.array(), np.arange()\n",
    "\n",
    "# Array Creation using np.array()\n",
    "l=[1,2,6,0,-1]\n",
    "arr=np.array(l)\n",
    "print(arr,\" \",type(arr))\n",
    "\n",
    "print(arr.ndim)  # Gives the number of dimentions of the array.\n",
    "print(arr.shape) # Gives the number of elements in the numpy array.\n",
    "\n"
   ]
  },
  {
   "cell_type": "code",
   "execution_count": 12,
   "id": "8b4e4e88",
   "metadata": {},
   "outputs": [
    {
     "name": "stdout",
     "output_type": "stream",
     "text": [
      "[2 4 6 8]\n"
     ]
    }
   ],
   "source": [
    "# Array Creation using np.arange()\n",
    "\n",
    "# np.arange(start,end,step)\n",
    "arr=np.arange(2,9,2)\n",
    "print(arr)"
   ]
  },
  {
   "cell_type": "code",
   "execution_count": 15,
   "id": "ed25fce1",
   "metadata": {},
   "outputs": [
    {
     "name": "stdout",
     "output_type": "stream",
     "text": [
      "[[1 2 3]\n",
      " [4 5 6]\n",
      " [7 8 9]]\n",
      "(3, 3)\n",
      "2\n"
     ]
    }
   ],
   "source": [
    "# 2-D Numpy arrays.\n",
    "lst=[[1,2,3],[4,5,6],[7,8,9]]\n",
    "arr=np.array(lst)\n",
    "print(arr)\n",
    "print(arr.shape)  # Number of elements scattered over the dimentions.\n",
    "print(arr.ndim)"
   ]
  },
  {
   "cell_type": "markdown",
   "id": "0b14de2b",
   "metadata": {},
   "source": [
    "# Special Arrays in Numpy\n",
    "    A) zeros()\n",
    "    B) ones()\n",
    "    C) diag()\n",
    "    D) identity()"
   ]
  },
  {
   "cell_type": "code",
   "execution_count": 19,
   "id": "4fa870c5",
   "metadata": {},
   "outputs": [
    {
     "name": "stdout",
     "output_type": "stream",
     "text": [
      "[[0. 0. 0. 0.]\n",
      " [0. 0. 0. 0.]\n",
      " [0. 0. 0. 0.]\n",
      " [0. 0. 0. 0.]]\n"
     ]
    }
   ],
   "source": [
    "print(np.zeros((4,4)))"
   ]
  },
  {
   "cell_type": "code",
   "execution_count": 20,
   "id": "093457f0",
   "metadata": {},
   "outputs": [
    {
     "name": "stdout",
     "output_type": "stream",
     "text": [
      "[[1. 1.]\n",
      " [1. 1.]]\n"
     ]
    }
   ],
   "source": [
    "print(np.ones((2,2)))"
   ]
  },
  {
   "cell_type": "code",
   "execution_count": 22,
   "id": "89c90a54",
   "metadata": {},
   "outputs": [
    {
     "name": "stdout",
     "output_type": "stream",
     "text": [
      "[[1 0 0]\n",
      " [0 2 0]\n",
      " [0 0 3]]\n"
     ]
    }
   ],
   "source": [
    "print(np.diag([1,2,3]))"
   ]
  },
  {
   "cell_type": "code",
   "execution_count": 28,
   "id": "e04ee266",
   "metadata": {},
   "outputs": [
    {
     "name": "stdout",
     "output_type": "stream",
     "text": [
      "[[1. 0. 0.]\n",
      " [0. 1. 0.]\n",
      " [0. 0. 1.]]\n"
     ]
    }
   ],
   "source": [
    "print(np.identity(3))"
   ]
  },
  {
   "cell_type": "code",
   "execution_count": null,
   "id": "a7c1f043",
   "metadata": {},
   "outputs": [],
   "source": []
  }
 ],
 "metadata": {
  "kernelspec": {
   "display_name": "Python 3",
   "language": "python",
   "name": "python3"
  },
  "language_info": {
   "codemirror_mode": {
    "name": "ipython",
    "version": 3
   },
   "file_extension": ".py",
   "mimetype": "text/x-python",
   "name": "python",
   "nbconvert_exporter": "python",
   "pygments_lexer": "ipython3",
   "version": "3.8.8"
  }
 },
 "nbformat": 4,
 "nbformat_minor": 5
}
